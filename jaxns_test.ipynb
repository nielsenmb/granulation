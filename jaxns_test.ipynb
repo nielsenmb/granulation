{
 "cells": [
  {
   "cell_type": "code",
   "execution_count": null,
   "metadata": {},
   "outputs": [],
   "source": [
    "from jax.scipy.special import ndtri\n",
    "from matplotlib.pyplot import *\n",
    "from jaxns import NestedSampler\n",
    "from jaxns.prior_transforms import PriorChain, LogNormalPrior\n",
    "from jaxns.prior_transforms.prior import prior_docstring, get_shape\n",
    "from jaxns.prior_transforms.common import ContinuousPrior\n",
    "from jax import random, numpy as jnp, jit\n",
    "import numpy as np\n",
    "import utils"
   ]
  },
  {
   "cell_type": "markdown",
   "metadata": {},
   "source": [
    "## Draw samples from jaxns implimentation of the log-normal distribution"
   ]
  },
  {
   "cell_type": "code",
   "execution_count": null,
   "metadata": {},
   "outputs": [],
   "source": [
    "def log_likelihood(p):\n",
    "    \n",
    "    return -200000\n",
    "        \n",
    "with PriorChain() as prior_chain:\n",
    "    LogNormalPrior('p', 0, 1)\n",
    " \n",
    "# Run the nested sampling\n",
    "ns = NestedSampler(loglikelihood=log_likelihood, prior_chain=prior_chain)\n",
    "\n",
    "f = jit(ns)\n",
    "\n",
    "results = f(random.PRNGKey(3452345))"
   ]
  },
  {
   "cell_type": "markdown",
   "metadata": {},
   "source": [
    "## Draw samples from an interpolated version of the log-normal quantile function"
   ]
  },
  {
   "cell_type": "code",
   "execution_count": null,
   "metadata": {},
   "outputs": [],
   "source": [
    "class InterpPrior(ContinuousPrior):\n",
    "    @prior_docstring\n",
    "    def __init__(self, name, interp_func, tracked=True):\n",
    "        \"\"\"\n",
    "\n",
    "        \"\"\"\n",
    "        self.interp_func = interp_func\n",
    "\n",
    "        shape = []\n",
    "\n",
    "        super(InterpPrior, self).__init__(name, shape, [], tracked)\n",
    "\n",
    "    def transform_U(self, U, **kwargs):\n",
    "        return self.interp_func(U)\n",
    "    \n",
    "\n",
    "x = np.linspace(0, 1, 10001)\n",
    "\n",
    "y = jnp.exp(ndtri(x))\n",
    "\n",
    "interp_func = utils.jaxInterp1D(x, y)    \n",
    "\n",
    "with PriorChain() as prior_chainI:\n",
    "    InterpPrior('p', interp_func)\n",
    "    \n",
    "nsI = NestedSampler(loglikelihood=log_likelihood, prior_chain=prior_chainI)\n",
    "\n",
    "fI = jit(nsI)\n",
    "\n",
    "resultsI = fI(random.PRNGKey(3452345))"
   ]
  },
  {
   "cell_type": "markdown",
   "metadata": {},
   "source": [
    "## Plot results"
   ]
  },
  {
   "cell_type": "code",
   "execution_count": null,
   "metadata": {},
   "outputs": [],
   "source": [
    "hist(results.samples['p'][~np.isinf(results.samples['p'])], bins = np.linspace(0,30,20), log=True, density=True)\n",
    "hist(resultsI.samples['p'][~np.isinf(resultsI.samples['p'])], bins = np.linspace(0,30,20), log=True, density=True, alpha=0.5)\n",
    "hist(np.exp(ndtri(np.random.uniform(0, 1, 10000))), bins = np.linspace(0,30,20), density=True, alpha = 0.5, histtype='step')"
   ]
  }
 ],
 "metadata": {
  "kernelspec": {
   "display_name": "Python 3",
   "language": "python",
   "name": "python3"
  },
  "language_info": {
   "codemirror_mode": {
    "name": "ipython",
    "version": 3
   },
   "file_extension": ".py",
   "mimetype": "text/x-python",
   "name": "python",
   "nbconvert_exporter": "python",
   "pygments_lexer": "ipython3",
   "version": "3.7.5"
  }
 },
 "nbformat": 4,
 "nbformat_minor": 4
}
