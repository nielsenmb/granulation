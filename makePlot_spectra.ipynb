{
 "cells": [
  {
   "cell_type": "code",
   "execution_count": 2,
   "id": "6b8c3513",
   "metadata": {},
   "outputs": [],
   "source": [
    "from DR import PCA\n",
    "import numpy as np\n",
    "import pandas as pd\n",
    "from matplotlib.pyplot import *\n",
    "import utils\n",
    "import scipy.special as sc\n",
    "import corner, os, dill\n",
    "import astropy.convolution as conv\n",
    "from asy_bkg_fitting import spectrum_fit "
   ]
  },
  {
   "cell_type": "code",
   "execution_count": 11,
   "id": "5eeb9c93",
   "metadata": {},
   "outputs": [],
   "source": [
    "import types\n",
    "\n",
    "dill._dill._reverse_typemap['ClassType'] = type\n",
    "\n"
   ]
  },
  {
   "cell_type": "code",
   "execution_count": 12,
   "id": "37072a1c",
   "metadata": {},
   "outputs": [
    {
     "name": "stdout",
     "output_type": "stream",
     "text": [
      "KIC6863017\n",
      "/home/nielsemb/work/repos/granulation/results/KIC6863017/KIC6863017_pca2.sfit\n"
     ]
    },
    {
     "ename": "KeyError",
     "evalue": "'has_explicit_device'",
     "output_type": "error",
     "traceback": [
      "\u001b[0;31m---------------------------------------------------------------------------\u001b[0m",
      "\u001b[0;31mKeyError\u001b[0m                                  Traceback (most recent call last)",
      "Cell \u001b[0;32mIn [12], line 40\u001b[0m\n\u001b[1;32m     37\u001b[0m \u001b[38;5;28;01mif\u001b[39;00m os\u001b[38;5;241m.\u001b[39mpath\u001b[38;5;241m.\u001b[39mexists(sfitpath):\n\u001b[1;32m     39\u001b[0m     \u001b[38;5;28;01mwith\u001b[39;00m \u001b[38;5;28mopen\u001b[39m(sfitpath, \u001b[38;5;124m'\u001b[39m\u001b[38;5;124mrb\u001b[39m\u001b[38;5;124m'\u001b[39m) \u001b[38;5;28;01mas\u001b[39;00m dillfile:\n\u001b[0;32m---> 40\u001b[0m         sfit \u001b[38;5;241m=\u001b[39m \u001b[43mdill\u001b[49m\u001b[38;5;241;43m.\u001b[39;49m\u001b[43mload\u001b[49m\u001b[43m(\u001b[49m\u001b[43mdillfile\u001b[49m\u001b[43m)\u001b[49m \n\u001b[1;32m     41\u001b[0m \u001b[38;5;28;01melse\u001b[39;00m:\n\u001b[1;32m     42\u001b[0m     \u001b[38;5;28;01mcontinue\u001b[39;00m    \n",
      "File \u001b[0;32m~/.local/lib/python3.10/site-packages/dill/_dill.py:272\u001b[0m, in \u001b[0;36mload\u001b[0;34m(file, ignore, **kwds)\u001b[0m\n\u001b[1;32m    266\u001b[0m \u001b[38;5;28;01mdef\u001b[39;00m \u001b[38;5;21mload\u001b[39m(file, ignore\u001b[38;5;241m=\u001b[39m\u001b[38;5;28;01mNone\u001b[39;00m, \u001b[38;5;241m*\u001b[39m\u001b[38;5;241m*\u001b[39mkwds):\n\u001b[1;32m    267\u001b[0m     \u001b[38;5;124;03m\"\"\"\u001b[39;00m\n\u001b[1;32m    268\u001b[0m \u001b[38;5;124;03m    Unpickle an object from a file.\u001b[39;00m\n\u001b[1;32m    269\u001b[0m \n\u001b[1;32m    270\u001b[0m \u001b[38;5;124;03m    See :func:`loads` for keyword arguments.\u001b[39;00m\n\u001b[1;32m    271\u001b[0m \u001b[38;5;124;03m    \"\"\"\u001b[39;00m\n\u001b[0;32m--> 272\u001b[0m     \u001b[38;5;28;01mreturn\u001b[39;00m \u001b[43mUnpickler\u001b[49m\u001b[43m(\u001b[49m\u001b[43mfile\u001b[49m\u001b[43m,\u001b[49m\u001b[43m \u001b[49m\u001b[43mignore\u001b[49m\u001b[38;5;241;43m=\u001b[39;49m\u001b[43mignore\u001b[49m\u001b[43m,\u001b[49m\u001b[43m \u001b[49m\u001b[38;5;241;43m*\u001b[39;49m\u001b[38;5;241;43m*\u001b[39;49m\u001b[43mkwds\u001b[49m\u001b[43m)\u001b[49m\u001b[38;5;241;43m.\u001b[39;49m\u001b[43mload\u001b[49m\u001b[43m(\u001b[49m\u001b[43m)\u001b[49m\n",
      "File \u001b[0;32m~/.local/lib/python3.10/site-packages/dill/_dill.py:419\u001b[0m, in \u001b[0;36mUnpickler.load\u001b[0;34m(self)\u001b[0m\n\u001b[1;32m    418\u001b[0m \u001b[38;5;28;01mdef\u001b[39;00m \u001b[38;5;21mload\u001b[39m(\u001b[38;5;28mself\u001b[39m): \u001b[38;5;66;03m#NOTE: if settings change, need to update attributes\u001b[39;00m\n\u001b[0;32m--> 419\u001b[0m     obj \u001b[38;5;241m=\u001b[39m \u001b[43mStockUnpickler\u001b[49m\u001b[38;5;241;43m.\u001b[39;49m\u001b[43mload\u001b[49m\u001b[43m(\u001b[49m\u001b[38;5;28;43mself\u001b[39;49m\u001b[43m)\u001b[49m\n\u001b[1;32m    420\u001b[0m     \u001b[38;5;28;01mif\u001b[39;00m \u001b[38;5;28mtype\u001b[39m(obj)\u001b[38;5;241m.\u001b[39m\u001b[38;5;18m__module__\u001b[39m \u001b[38;5;241m==\u001b[39m \u001b[38;5;28mgetattr\u001b[39m(_main_module, \u001b[38;5;124m'\u001b[39m\u001b[38;5;124m__name__\u001b[39m\u001b[38;5;124m'\u001b[39m, \u001b[38;5;124m'\u001b[39m\u001b[38;5;124m__main__\u001b[39m\u001b[38;5;124m'\u001b[39m):\n\u001b[1;32m    421\u001b[0m         \u001b[38;5;28;01mif\u001b[39;00m \u001b[38;5;129;01mnot\u001b[39;00m \u001b[38;5;28mself\u001b[39m\u001b[38;5;241m.\u001b[39m_ignore:\n\u001b[1;32m    422\u001b[0m             \u001b[38;5;66;03m# point obj class to main\u001b[39;00m\n",
      "\u001b[0;31mKeyError\u001b[0m: 'has_explicit_device'"
     ]
    },
    {
     "data": {
      "image/png": "[encoded data removed]",
      "text/plain": [
       "<Figure size 1600x500 with 2 Axes>"
      ]
     },
     "metadata": {},
     "output_type": "display_data"
    }
   ],
   "source": [
    "workDir = '/home/nielsemb/work/repos/granulation'\n",
    "\n",
    "prior_data_fname = os.path.join(*[workDir, 'bkgfit_output_nopca.csv']) \n",
    "\n",
    "prior_data = pd.read_csv(prior_data_fname)\n",
    "\n",
    "tgts = [8657]\n",
    "\n",
    "ndims = [2, 4, 8, 16]\n",
    "\n",
    "for i in tgts:\n",
    "   \n",
    "    ID = prior_data.loc[i, 'ID']\n",
    "    print(ID)\n",
    "\n",
    "    outputDir = os.path.join(*[workDir, 'results', ID])\n",
    "    \n",
    "    _numax = prior_data.loc[i, 'numax'] # tgt numax\n",
    "    \n",
    "    _dnu = prior_data.loc[i, 'dnu'] # tgt numax\n",
    "    \n",
    "    obs = {'numax': [10**_numax, 0.2*10**_numax], \n",
    "           'dnu': [10**_dnu, 0]} \n",
    "    \n",
    "    \n",
    "    for j, ndim in enumerate(ndims):\n",
    "        \n",
    "        if ndim == ndims[-1]:\n",
    "            figM, axM = subplots(1,2,figsize=(16,5.5))\n",
    "        else:\n",
    "            figM, axM = subplots(1,2,figsize=(16,5))\n",
    "        \n",
    "        ext = f'pca{ndim}'\n",
    "\n",
    "        sfitpath = os.path.join(*[outputDir, os.path.basename(outputDir) + f'_{ext}.sfit'])\n",
    "        print(sfitpath)\n",
    "        if os.path.exists(sfitpath):\n",
    "   \n",
    "            with open(sfitpath, 'rb') as dillfile:\n",
    "                sfit = dill.load(dillfile) \n",
    "        else:\n",
    "            continue    \n",
    "   \n",
    "# #         sfit.plotModel(figM, axM, sfit._samples, obs=obs, outputDir=outputDir); "
   ]
  },
  {
   "cell_type": "code",
   "execution_count": null,
   "id": "04699a11",
   "metadata": {},
   "outputs": [],
   "source": []
  }
 ],
 "metadata": {
  "kernelspec": {
   "display_name": "Python 3 (ipykernel)",
   "language": "python",
   "name": "python3"
  },
  "language_info": {
   "codemirror_mode": {
    "name": "ipython",
    "version": 3
   },
   "file_extension": ".py",
   "mimetype": "text/x-python",
   "name": "python",
   "nbconvert_exporter": "python",
   "pygments_lexer": "ipython3",
   "version": "3.10.6"
  }
 },
 "nbformat": 4,
 "nbformat_minor": 5
}
