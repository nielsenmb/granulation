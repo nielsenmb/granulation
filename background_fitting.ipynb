{
 "cells": [
  {
   "cell_type": "code",
   "execution_count": 1,
   "metadata": {},
   "outputs": [
    {
     "name": "stderr",
     "output_type": "stream",
     "text": [
      "/home/nielsemb/.local/lib/python3.7/site-packages/statsmodels/tools/_testing.py:19: FutureWarning: pandas.util.testing is deprecated. Use the functions in the public API at pandas.testing instead.\n",
      "  import pandas.util.testing as tm\n"
     ]
    }
   ],
   "source": [
    "#%load_ext autoreload\n",
    "#%autoreload 2\n",
    "import os\n",
    "import lightkurve as lk\n",
    "import pandas as pd\n",
    "import numpy as np\n",
    "import dynesty\n",
    "from granulation_fitting import granulation_fit \n",
    "from matplotlib.pyplot import *\n",
    "rcParams['font.size'] = 18"
   ]
  },
  {
   "cell_type": "code",
   "execution_count": 2,
   "metadata": {},
   "outputs": [],
   "source": [
    "download_dir = '/home/nielsemb/work/mounts/Bluebear_data/data'\n",
    "\n",
    "workDir = '/home/nielsemb/work/repos/granulation'\n",
    "\n",
    "prior_data = pd.read_csv(os.path.join(*[workDir, 'prior_data.csv']))"
   ]
  },
  {
   "cell_type": "code",
   "execution_count": 3,
   "metadata": {},
   "outputs": [],
   "source": [
    "test_numaxs = np.linspace(min(prior_data['numax']), max(prior_data['numax']), 10)\n",
    "idxs = np.array([np.argmin(abs(prior_data['numax'].values - nu)) for nu in test_numaxs])"
   ]
  },
  {
   "cell_type": "code",
   "execution_count": null,
   "metadata": {},
   "outputs": [
    {
     "name": "stderr",
     "output_type": "stream",
     "text": [
      "WARNING:absl:No GPU/TPU found, falling back to CPU. (Set TF_CPP_MIN_LOG_LEVEL=0 and rerun for more info.)\n"
     ]
    },
    {
     "name": "stdout",
     "output_type": "stream",
     "text": [
      "TIC191929687\n",
      "Using cached search result.\n",
      "Loading fits files from cache.\n",
      "Binning time series by 3\n"
     ]
    },
    {
     "name": "stderr",
     "output_type": "stream",
     "text": [
      "4402it [01:31, 41.14it/s, bound: 122 | nc: 32 | ncall: 124602 | eff(%):  3.533 | loglstar:   -inf < -40204.685 <    inf | logz: -40226.180 +/-  0.315 | dlogz:  3.602 >  0.209]"
     ]
    }
   ],
   "source": [
    "cornerN = 5000\n",
    "\n",
    "figM, axM = subplots(figsize=(16,9))\n",
    " \n",
    "i = 13441\n",
    "\n",
    "ID = prior_data.loc[i, 'ID']\n",
    "print(ID)\n",
    "\n",
    "outputDir = os.path.join(*[workDir, 'results', ID])\n",
    "\n",
    "if not os.path.exists(outputDir):\n",
    "    os.makedirs(outputDir)\n",
    "\n",
    "_numax = prior_data.loc[i, 'numax']\n",
    "\n",
    "numax = [10**_numax, 0.1*10**_numax]\n",
    "\n",
    "gfit = granulation_fit(ID, numax, download_dir, pcadim=8)\n",
    "\n",
    "sampler, samples = gfit.runDynesty()\n",
    "\n",
    "gfit.storeResults(outputDir)\n",
    "\n",
    "gfit.plotModel(figM, axM, outputDir=outputDir);\n",
    "axM.clear()\n",
    "\n",
    "gfit.plotModel(figM, axM, samples, outputDir=outputDir);\n",
    "axM.clear()"
   ]
  },
  {
   "cell_type": "code",
   "execution_count": null,
   "metadata": {},
   "outputs": [],
   "source": [
    "gfit.samples = np.random.normal(0, 1, (1000, 12))"
   ]
  },
  {
   "cell_type": "code",
   "execution_count": null,
   "metadata": {},
   "outputs": [],
   "source": [
    "import dill"
   ]
  },
  {
   "cell_type": "code",
   "execution_count": null,
   "metadata": {},
   "outputs": [],
   "source": [
    "dill.dump(gfit, open(\"test.p\", \"wb\"))"
   ]
  },
  {
   "cell_type": "code",
   "execution_count": null,
   "metadata": {},
   "outputs": [],
   "source": [
    "gfit0 = granulation_fit(ID, numax, download_dir, pcadim=8)\n",
    "\n",
    "figM, axM = subplots(figsize=(16,9))\n",
    "\n",
    "gfit0.plotModel(figM, axM)"
   ]
  },
  {
   "cell_type": "code",
   "execution_count": null,
   "metadata": {},
   "outputs": [],
   "source": [
    "def wfunc(self, n=1):\n",
    "     \n",
    "    ppf, pdf = self.getQuantileFuncs(self.data_F[:, :1])\n",
    "\n",
    "    w = 1/pdf[0](self.data_F[:, 0])**n\n",
    "       \n",
    "    return w\n",
    "\n",
    "fig, ax = subplots()\n",
    "ax.axhline(10**_numax)\n",
    "for k in range(0, 20, 4):\n",
    "    gfit = granulation_fit(ID, numax, download_dir, pcadim=3, weights=wfunc, weight_args={'n':k})\n",
    "\n",
    "    mu_pr = np.zeros(gfit.ndim) + 0.5\n",
    "\n",
    "    theta = gfit.ptform(mu_pr)\n",
    "\n",
    "    params = gfit.unpackParams(theta)\n",
    "\n",
    "    ax.plot(k, params[0], 'o')\n",
    "    ax.plot(k, 10**gfit.DR.mu[0], 'o', color='k')"
   ]
  },
  {
   "cell_type": "code",
   "execution_count": null,
   "metadata": {},
   "outputs": [],
   "source": [
    "\n",
    "# figM, axM = subplots(figsize=(16,9))\n",
    "# gfit1.plotModel(figM, axM);\n",
    "\n",
    "figM, axM = subplots(figsize=(16,9))\n",
    "gfit0.plotModel(figM, axM, samples0);\n",
    "figM, axM = subplots(figsize=(16,9))\n",
    "gfit1.plotModel(figM, axM, samples1);"
   ]
  },
  {
   "cell_type": "code",
   "execution_count": null,
   "metadata": {},
   "outputs": [],
   "source": [
    "fig, ax = subplots(gfit0.ndim, gfit0.ndim, figsize=(20,20))\n",
    "gfit0.makeSamplingCorner(fig, samples0)"
   ]
  },
  {
   "cell_type": "code",
   "execution_count": null,
   "metadata": {},
   "outputs": [],
   "source": [
    "fig, ax = subplots(gfit1.ndim, gfit1.ndim, figsize=(20,20))\n",
    "gfit1.makeSamplingCorner(fig, samples1)"
   ]
  },
  {
   "cell_type": "code",
   "execution_count": null,
   "metadata": {},
   "outputs": [],
   "source": [
    "gfit.DR.makeTrainingCorner()"
   ]
  },
  {
   "cell_type": "code",
   "execution_count": null,
   "metadata": {},
   "outputs": [],
   "source": [
    "gfit.DR.makeDRTrainingCorner()"
   ]
  },
  {
   "cell_type": "code",
   "execution_count": null,
   "metadata": {},
   "outputs": [],
   "source": [
    "fig, ax = subplots(gfit.ndim, gfit.ndim, figsize=(20,20))\n",
    "gfit.makePriorCorner(fig)"
   ]
  },
  {
   "cell_type": "code",
   "execution_count": null,
   "metadata": {},
   "outputs": [],
   "source": [
    "fig, ax = subplots(len(gfit.labels), len(gfit.labels), figsize=(30,30))\n",
    "gfit.makeFullCorner(fig, samples, N=500)    "
   ]
  },
  {
   "cell_type": "code",
   "execution_count": null,
   "metadata": {},
   "outputs": [],
   "source": []
  },
  {
   "cell_type": "code",
   "execution_count": null,
   "metadata": {},
   "outputs": [],
   "source": [
    "gfit = granulation_fit(ID, numax, download_dir, pcadim=None)"
   ]
  },
  {
   "cell_type": "code",
   "execution_count": null,
   "metadata": {},
   "outputs": [],
   "source": [
    "figM, axM = subplots(figsize=(16,9))\n",
    "gfit.plotModel(figM, axM, outputDir=outputDir);\n",
    "\n"
   ]
  },
  {
   "cell_type": "code",
   "execution_count": null,
   "metadata": {},
   "outputs": [],
   "source": [
    "sampler, samples = gfit.runDynesty()"
   ]
  },
  {
   "cell_type": "code",
   "execution_count": null,
   "metadata": {},
   "outputs": [],
   "source": [
    "figM, axM = subplots(figsize=(16,9))\n",
    "gfit.plotModel(figM, axM, samples, outputDir=outputDir);"
   ]
  },
  {
   "cell_type": "code",
   "execution_count": null,
   "metadata": {},
   "outputs": [],
   "source": [
    "fig, ax = subplots(len(gfit.labels), len(gfit.labels), figsize=(30,30))\n",
    "gfit.makeSamplingCorner(fig, samples)"
   ]
  },
  {
   "cell_type": "code",
   "execution_count": null,
   "metadata": {},
   "outputs": [],
   "source": []
  },
  {
   "cell_type": "code",
   "execution_count": null,
   "metadata": {},
   "outputs": [],
   "source": [
    "def wfunc(self, n=1):\n",
    "     \n",
    "    ppf, pdf = self.getQuantileFuncs(self.data_F[:, :1])\n",
    "\n",
    "    w = 1/pdf[0](self.data_F[:, 0])**n\n",
    "       \n",
    "    return w\n",
    "\n",
    "from DR import PCA\n",
    "\n",
    "import utils\n",
    "\n",
    "_numax = prior_data.loc[13441, 'numax']\n",
    "\n",
    "numax = [10**_numax, 0.1*10**_numax]\n",
    "\n",
    "numax = utils.to_log10(*numax)          \n",
    "\n",
    "pcalabels = ['bkg_numax', 'bkg_envHeight', 'bkg_envWidth',\n",
    "             'H1_power', 'H1_nu', 'H1_exp',\n",
    "             'H2_power', 'H2_nu', 'H2_exp',] \n",
    "\n",
    "P_test = PCA(numax, pcalabels, weights=wfunc, weight_args={'n':2}, N=1000)\n",
    "\n",
    "# P_test.fit_weightedPCA(2)"
   ]
  },
  {
   "cell_type": "code",
   "execution_count": null,
   "metadata": {},
   "outputs": [],
   "source": [
    "\n",
    "\n",
    "P_test.weights"
   ]
  },
  {
   "cell_type": "code",
   "execution_count": null,
   "metadata": {},
   "outputs": [],
   "source": [
    "idxsort = np.array(np.argsort(P_test.data_F[:, 0]))\n",
    "\n",
    "hist(P_test.data_F[:, 0])\n",
    "plot(P_test.data_F[:, 0][idxsort], P_test.weights[idxsort])\n",
    "axvline(numax[0])"
   ]
  },
  {
   "cell_type": "code",
   "execution_count": null,
   "metadata": {},
   "outputs": [],
   "source": [
    "P_test.data_F[:, 0][idxsort]"
   ]
  },
  {
   "cell_type": "code",
   "execution_count": null,
   "metadata": {},
   "outputs": [],
   "source": []
  },
  {
   "cell_type": "code",
   "execution_count": null,
   "metadata": {},
   "outputs": [],
   "source": []
  },
  {
   "cell_type": "code",
   "execution_count": null,
   "metadata": {},
   "outputs": [],
   "source": [
    "y0 = np.random.normal(loc= 0, scale=1, size=1000)\n",
    "y1 = np.random.normal(loc=10, scale=1, size=1000)\n",
    "y = np.append(y0, y1)"
   ]
  },
  {
   "cell_type": "code",
   "execution_count": null,
   "metadata": {},
   "outputs": [],
   "source": [
    "w = np.zeros_like(y)+1e-20\n",
    "w[y>5] = 1"
   ]
  },
  {
   "cell_type": "code",
   "execution_count": null,
   "metadata": {},
   "outputs": [],
   "source": [
    "np.cov(y, rowvar=False, aweights=w)"
   ]
  },
  {
   "cell_type": "code",
   "execution_count": null,
   "metadata": {},
   "outputs": [],
   "source": [
    "np.cov(y, rowvar=False)"
   ]
  },
  {
   "cell_type": "code",
   "execution_count": null,
   "metadata": {},
   "outputs": [],
   "source": [
    "np.cov(y[y>5])"
   ]
  },
  {
   "cell_type": "code",
   "execution_count": null,
   "metadata": {},
   "outputs": [],
   "source": [
    "semilogy(gfit1.DR.data_F[:, 0], gfit1.DR.weights**2, '.')"
   ]
  },
  {
   "cell_type": "code",
   "execution_count": null,
   "metadata": {},
   "outputs": [],
   "source": [
    "\n",
    "np.cov(gfit1.DR.data_F[:, 0], rowvar=False, aweights=gfit1.DR.weights)"
   ]
  },
  {
   "cell_type": "code",
   "execution_count": null,
   "metadata": {},
   "outputs": [],
   "source": [
    "_X = gfit1.DR.scale(gfit1.DR.data_F)\n"
   ]
  },
  {
   "cell_type": "code",
   "execution_count": null,
   "metadata": {},
   "outputs": [],
   "source": [
    "np.cov(_X[:, 0], rowvar=False, aweights=gfit1.DR.weights)"
   ]
  },
  {
   "cell_type": "code",
   "execution_count": null,
   "metadata": {},
   "outputs": [],
   "source": [
    "import statsmodels.api as sm\n",
    "import scipy.stats as st\n",
    "import scipy.integrate as si\n",
    "import jax.numpy as jnp\n",
    "import utils\n",
    "\n",
    "y = gfit.DR.data_F[:, :1]\n",
    "print(y.shape)\n",
    "ppfs, pdfs = gfit.DR.getQuantileFuncs(y)\n",
    " \n",
    "x = np.linspace(ppfs[0](0), ppfs[0](1), 100)\n",
    "plot(x, pdfs[0](x))\n",
    "hist(y[:, 0], bins =30, density=True)"
   ]
  },
  {
   "cell_type": "code",
   "execution_count": null,
   "metadata": {},
   "outputs": [],
   "source": [
    "\n",
    "# kde = sm.nonparametric.KDEUnivariate(np.array(y).real)\n",
    "\n",
    "# kde.fit(adjust=1, cut=4)\n",
    "\n",
    "# print(kde.support.min(), kde.support.max())\n",
    "\n",
    "# Q = kde.icdf\n",
    "# A = jnp.linspace(0, 1, len(Q))\n",
    "# ppf = utils.jaxInterp1D(A, Q)\n",
    "# pdf = kde.evaluate\n",
    "\n",
    "\n",
    "# fig, ax = subplots(1,2, figsize=(12,6))\n",
    "# #ax[0].hist(y, bins = 30, density=True)\n",
    "\n",
    "# x = np.linspace(ppf(0), ppf(1), 100)\n",
    "# #ax[0].plot(kde.support, kde.evaluate(kde.support))\n",
    "# #ax[0].plot(x, pdf(x))\n",
    "\n",
    "\n",
    "# ax[1].plot(A, Q)\n",
    "\n",
    "# Q0 = utils.getCurvePercentiles(kde.support, \n",
    "#                                kde.evaluate(kde.support),\n",
    "#                                percentiles=np.linspace(0, 1, len(kde.cdf)))\n",
    "\n",
    "# A0 = jnp.linspace(0, 1, len(Q0))\n",
    "# ppf0 = utils.jaxInterp1D(A0, Q0)\n",
    "# pdf0 = kde.evaluate\n",
    "\n",
    "# \n",
    "# ax[0].plot(x0, np.log(pdf0(x0)), alpha = 0.5, lw=5)\n",
    "\n",
    "# #ax[0].set_xlim(2.6, 2.7)\n",
    "# #ax[0].set_ylim(0, 0.5)\n",
    "# # ax[0].plot(kde1.support, kde1.cdf)\n",
    "\n",
    "# # x = np.linspace(0, 1, len(kde1.cdf))\n",
    "# # ax[1].plot(x, kde1.icdf)\n",
    "\n",
    "\n",
    "\n",
    "\n",
    "# # ppf = \n",
    "# # ax[1].plot(x, ppf)\n",
    "\n",
    "\n",
    "\n",
    "\n",
    "# # A = jnp.linspace(0, 1, len(Q))\n",
    "\n",
    "# # ppf = utils.jaxInterp1D(A, Q)\n",
    "\n",
    "# # pdf = kde.evaluate\n",
    "\n",
    "# # hist(y, density=True)\n",
    "# # x = np.linspace(ppf(0)-1, ppf(1)+1)\n",
    "# # plot(x, pdf(x))\n"
   ]
  },
  {
   "cell_type": "code",
   "execution_count": null,
   "metadata": {},
   "outputs": [],
   "source": [
    "G = utils.normal(mu=0, sigma=1)\n",
    "y = G.ppf(np.random.uniform(0, 1, 100000))"
   ]
  },
  {
   "cell_type": "code",
   "execution_count": null,
   "metadata": {},
   "outputs": [],
   "source": [
    "x = np.linspace(G.ppf(1e-9), G.ppf(1-1e-9), 10000)"
   ]
  },
  {
   "cell_type": "code",
   "execution_count": null,
   "metadata": {},
   "outputs": [],
   "source": [
    "y_ = utils.getCurvePercentiles(x, G.pdf(x), percentiles = np.linspace(0, 1, 10000))"
   ]
  },
  {
   "cell_type": "code",
   "execution_count": null,
   "metadata": {},
   "outputs": [],
   "source": [
    "#hist(y, density=True)\n",
    "plot(np.linspace(0, 1, 10000), y_)"
   ]
  },
  {
   "cell_type": "code",
   "execution_count": null,
   "metadata": {},
   "outputs": [],
   "source": [
    "len(a), len(kde1.support), len(np.linspace(0,1,len(kde1.cdf)))"
   ]
  },
  {
   "cell_type": "code",
   "execution_count": null,
   "metadata": {},
   "outputs": [],
   "source": []
  },
  {
   "cell_type": "code",
   "execution_count": null,
   "metadata": {},
   "outputs": [],
   "source": [
    "plot(ppf)"
   ]
  },
  {
   "cell_type": "code",
   "execution_count": null,
   "metadata": {},
   "outputs": [],
   "source": [
    "cSumNorm = si.cumtrapz(a, kde1.support, initial=0) / np.trapz(a, kde1.support)\n",
    "percentiles = np.linspace(0,1,len(kde1.cdf))\n",
    "#print(percentiles)\n",
    "#percs = np.array([x[cSumNorm >= p][0] for p in percentiles])"
   ]
  },
  {
   "cell_type": "code",
   "execution_count": null,
   "metadata": {},
   "outputs": [],
   "source": [
    "for p in percentiles:\n",
    "    print(p, len(x[kde1.cdf >= p]))"
   ]
  },
  {
   "cell_type": "code",
   "execution_count": null,
   "metadata": {},
   "outputs": [],
   "source": [
    "max(kde1.cdf)"
   ]
  },
  {
   "cell_type": "code",
   "execution_count": null,
   "metadata": {},
   "outputs": [],
   "source": [
    "plot(kde1.support, a)"
   ]
  },
  {
   "cell_type": "code",
   "execution_count": null,
   "metadata": {},
   "outputs": [],
   "source": [
    "kde.support"
   ]
  },
  {
   "cell_type": "code",
   "execution_count": null,
   "metadata": {},
   "outputs": [],
   "source": [
    "len(kde.cdf)"
   ]
  },
  {
   "cell_type": "code",
   "execution_count": null,
   "metadata": {},
   "outputs": [],
   "source": [
    "import scipy.stats as st\n",
    "\n",
    "s = st.norm(loc= 0, scale=1)"
   ]
  },
  {
   "cell_type": "code",
   "execution_count": null,
   "metadata": {},
   "outputs": [],
   "source": [
    "a = np.linspace(0, 1, 100)\n",
    "plot(a, s.ppf(a))"
   ]
  },
  {
   "cell_type": "code",
   "execution_count": null,
   "metadata": {},
   "outputs": [],
   "source": [
    "_X = gfit.DR.scale(gfit.DR.data_F)\n",
    "         \n",
    "W = jnp.diag(gfit.DR.weights)\n",
    "\n",
    "C = _X.T@W@_X * jnp.sum(gfit.DR.weights) / (jnp.sum(gfit.DR.weights)**2 - jnp.sum(gfit.DR.weights**2))\n",
    "C = np.array(C)\n",
    "eigvals, eigvectors = jnp.linalg.eig(C)"
   ]
  },
  {
   "cell_type": "code",
   "execution_count": null,
   "metadata": {},
   "outputs": [],
   "source": [
    "eigvectors"
   ]
  },
  {
   "cell_type": "code",
   "execution_count": null,
   "metadata": {},
   "outputs": [],
   "source": [
    "for i in range(C.shape[0]):\n",
    "    C[i, i] *= 50"
   ]
  },
  {
   "cell_type": "code",
   "execution_count": null,
   "metadata": {},
   "outputs": [],
   "source": [
    "eigvals, eigvectors = jnp.linalg.eig(C)"
   ]
  },
  {
   "cell_type": "code",
   "execution_count": null,
   "metadata": {},
   "outputs": [],
   "source": [
    "eigvectors"
   ]
  },
  {
   "cell_type": "code",
   "execution_count": null,
   "metadata": {},
   "outputs": [],
   "source": [
    "import utils\n",
    "import scipy.integrate as si\n",
    "\n",
    "y = gfit.DR.data_F[:, 0]\n",
    "\n",
    "miny = y.min()\n",
    "maxy = y.max()\n",
    "\n",
    "\n",
    "\n",
    "_dy = (ppf(0.01)-ppf(0))/1000\n",
    "_y = y.min() - _dy * np.arange(1, 11)**2\n",
    "\n",
    "_cdf = si.cumtrapz(pdf(_y[::-1]), _y[::-1]) \n",
    "\n",
    "    \n",
    "    \n",
    "\n",
    "    "
   ]
  },
  {
   "cell_type": "code",
   "execution_count": null,
   "metadata": {},
   "outputs": [],
   "source": []
  },
  {
   "cell_type": "code",
   "execution_count": null,
   "metadata": {},
   "outputs": [],
   "source": [
    "G = utils.normal(mu=0, sigma=1)"
   ]
  },
  {
   "cell_type": "code",
   "execution_count": null,
   "metadata": {},
   "outputs": [],
   "source": [
    "x = np.linspace(-10, 10, 100)\n",
    "y = G.pdf(x)"
   ]
  },
  {
   "cell_type": "code",
   "execution_count": null,
   "metadata": {},
   "outputs": [],
   "source": [
    "\n",
    "c = si.cumtrapz(y, x, initial=0)"
   ]
  },
  {
   "cell_type": "code",
   "execution_count": null,
   "metadata": {},
   "outputs": [],
   "source": [
    "plot(x, c)"
   ]
  },
  {
   "cell_type": "code",
   "execution_count": null,
   "metadata": {},
   "outputs": [],
   "source": [
    "kde.kernel"
   ]
  },
  {
   "cell_type": "code",
   "execution_count": null,
   "metadata": {},
   "outputs": [],
   "source": [
    "print(kde.kernel.domain)"
   ]
  },
  {
   "cell_type": "code",
   "execution_count": null,
   "metadata": {},
   "outputs": [],
   "source": [
    "np.allclose(kde.support, y)"
   ]
  },
  {
   "cell_type": "code",
   "execution_count": null,
   "metadata": {},
   "outputs": [],
   "source": []
  }
 ],
 "metadata": {
  "kernelspec": {
   "display_name": "Python 3",
   "language": "python",
   "name": "python3"
  },
  "language_info": {
   "codemirror_mode": {
    "name": "ipython",
    "version": 3
   },
   "file_extension": ".py",
   "mimetype": "text/x-python",
   "name": "python",
   "nbconvert_exporter": "python",
   "pygments_lexer": "ipython3",
   "version": "3.7.5"
  }
 },
 "nbformat": 4,
 "nbformat_minor": 5
}
