{
 "cells": [
  {
   "cell_type": "code",
   "execution_count": 1,
   "id": "b203beba",
   "metadata": {},
   "outputs": [
    {
     "name": "stderr",
     "output_type": "stream",
     "text": [
      "/home/nielsemb/.local/lib/python3.7/site-packages/statsmodels/tools/_testing.py:19: FutureWarning: pandas.util.testing is deprecated. Use the functions in the public API at pandas.testing instead.\n",
      "  import pandas.util.testing as tm\n"
     ]
    }
   ],
   "source": [
    "# %load_ext autoreload\n",
    "# %autoreload 2\n",
    "import os\n",
    "import pandas as pd\n",
    "import numpy as np\n",
    "import dynesty\n",
    "from granulation_fitting import granulation_fit \n",
    "from matplotlib.pyplot import *\n",
    "rcParams['font.size'] = 18"
   ]
  },
  {
   "cell_type": "code",
   "execution_count": 2,
   "id": "b97b784d",
   "metadata": {},
   "outputs": [],
   "source": [
    "download_dir = '/home/nielsemb/work/mounts/Bluebear_data/data'\n",
    "\n",
    "workDir = '/home/nielsemb/work/repos/granulation'\n",
    "\n",
    "prior_data = pd.read_csv(os.path.join(*[workDir, 'prior_data.csv']))"
   ]
  },
  {
   "cell_type": "code",
   "execution_count": 9,
   "id": "babd8a6f",
   "metadata": {},
   "outputs": [
    {
     "name": "stdout",
     "output_type": "stream",
     "text": [
      "KIC10000108\n",
      "Using cached search result.\n",
      "Loading fits files from cache.\n"
     ]
    },
    {
     "data": {
      "image/png": "[encoded data removed]",
      "text/plain": [
       "<Figure size 1152x648 with 1 Axes>"
      ]
     },
     "metadata": {
      "needs_background": "light"
     },
     "output_type": "display_data"
    }
   ],
   "source": [
    " \n",
    "i = 0  \n",
    "\n",
    "ID = prior_data.loc[i, 'ID']\n",
    "print(ID)\n",
    "\n",
    "outputDir = os.path.join(*[workDir, 'results', ID])\n",
    "\n",
    "if not os.path.exists(outputDir):\n",
    "    os.makedirs(outputDir)\n",
    "\n",
    "_numax = prior_data.loc[i, 'numax']\n",
    "\n",
    "numax = [10**_numax, 0.05*10**_numax] # The error is only used to select nearby tgts in the prior\n",
    "\n",
    "gfit = granulation_fit(ID, numax, download_dir, pcadim=2, N=200)\n",
    "\n",
    "figP, axP = subplots(figsize=(16,9))\n",
    "gfit.plotModel(figP, axP, outputDir=outputDir); # Plot model from median of the prior\n",
    "\n",
    "dynSampler, dynSamples = gfit.runDynesty(progress=True)\n",
    "\n",
    "gfit.storeResults(outputDir) # Store the results\n",
    "\n",
    "gfit.plotModel(figM, axM, dynSamples, outputDir=outputDir); # Plot model based on posterior samples"
   ]
  },
  {
   "cell_type": "code",
   "execution_count": null,
   "id": "6ab22ce3",
   "metadata": {},
   "outputs": [],
   "source": [
    "test_numaxs = np.linspace(min(prior_data['numax']), max(prior_data['numax']), 10)\n",
    "idxs = np.array([np.argmin(abs(prior_data['numax'].values - nu)) for nu in test_numaxs])\n",
    "print(idxs)\n",
    "\n",
    "def wfunc(self, n=1):\n",
    "     \n",
    "    ppf, pdf = self.getQuantileFuncs(self.data_F[:, :1])\n",
    "\n",
    "    w = 1/pdf[0](self.data_F[:, 0])**n\n",
    "       \n",
    "    return w"
   ]
  },
  {
   "cell_type": "code",
   "execution_count": null,
   "id": "2fc38b89",
   "metadata": {},
   "outputs": [],
   "source": [
    "sampler.chain.shape"
   ]
  },
  {
   "cell_type": "code",
   "execution_count": null,
   "id": "bc192ace",
   "metadata": {},
   "outputs": [],
   "source": []
  },
  {
   "cell_type": "code",
   "execution_count": null,
   "id": "fe576eb2",
   "metadata": {},
   "outputs": [],
   "source": [
    "gfit.DR.data_F.shape"
   ]
  },
  {
   "cell_type": "code",
   "execution_count": null,
   "id": "03663871",
   "metadata": {},
   "outputs": [],
   "source": [
    "sampler.ncall"
   ]
  },
  {
   "cell_type": "code",
   "execution_count": null,
   "id": "37ba9a0b",
   "metadata": {},
   "outputs": [],
   "source": []
  },
  {
   "cell_type": "code",
   "execution_count": null,
   "id": "408f0826",
   "metadata": {},
   "outputs": [],
   "source": [
    "fig, ax = subplots(13,13, figsize=(25,25))\n",
    "gfit.makeFullCorner(fig, samples)"
   ]
  },
  {
   "cell_type": "code",
   "execution_count": null,
   "id": "0305a340",
   "metadata": {},
   "outputs": [],
   "source": []
  },
  {
   "cell_type": "code",
   "execution_count": null,
   "id": "56fd6d30",
   "metadata": {},
   "outputs": [],
   "source": [
    "import corner\n",
    "corner.corner(samples)"
   ]
  },
  {
   "cell_type": "code",
   "execution_count": null,
   "id": "042acebc",
   "metadata": {},
   "outputs": [],
   "source": [
    "sampler_stat, samples_stat = gfit.runDynesty(dynamic=False)\n",
    "sampler_dyn, samples_dyn = gfit.runDynesty(dynamic=True)"
   ]
  },
  {
   "cell_type": "code",
   "execution_count": null,
   "id": "fa538fff",
   "metadata": {},
   "outputs": [],
   "source": [
    "from dynesty import plotting as dyplot\n",
    "\n",
    "rfig, raxes = dyplot.runplot(sampler_stat.results)\n",
    "rfig, raxes = dyplot.runplot(sampler_dyn.results)"
   ]
  },
  {
   "cell_type": "code",
   "execution_count": null,
   "id": "27c23223",
   "metadata": {},
   "outputs": [],
   "source": [
    "import corner\n",
    "fig = corner.corner(samples_stat, color='C0', hist_kwargs={'density': True});\n",
    "corner.corner(samples_dyn, fig=fig, color='C1', hist_kwargs={'density': True});"
   ]
  },
  {
   "cell_type": "code",
   "execution_count": null,
   "id": "34f9ef69",
   "metadata": {},
   "outputs": [],
   "source": [
    "fig, ax = subplots(13,13, figsize=(20,20))\n",
    "gfit.makeFullCorner(fig, samples_stat)\n",
    "gfit.makeFullCorner(fig, samples_dyn)\n"
   ]
  },
  {
   "cell_type": "code",
   "execution_count": null,
   "id": "7d909ee7",
   "metadata": {},
   "outputs": [],
   "source": [
    "gfit.DR.makeTrainingCorner()"
   ]
  },
  {
   "cell_type": "code",
   "execution_count": null,
   "id": "ea042b96",
   "metadata": {},
   "outputs": [],
   "source": [
    "figM, axM = subplots(figsize=(16,9))\n",
    "\n",
    "gfit.plotModel(figM, axM, samples, outputDir=outputDir);"
   ]
  },
  {
   "cell_type": "code",
   "execution_count": null,
   "id": "8de5f4fa",
   "metadata": {},
   "outputs": [],
   "source": [
    "figM, axM = subplots(figsize=(16,9))\n",
    "gfit.plotModel(figM, axM, samples_stat);"
   ]
  },
  {
   "cell_type": "code",
   "execution_count": null,
   "id": "50a18703",
   "metadata": {},
   "outputs": [],
   "source": [
    "figM, axM = subplots(figsize=(16,9))\n",
    "gfit.plotModel(figM, axM, samples_dyn);"
   ]
  },
  {
   "cell_type": "code",
   "execution_count": null,
   "id": "312ab100",
   "metadata": {},
   "outputs": [],
   "source": [
    "makeFmakeFullCornerCornerCornerCornerr"
   ]
  },
  {
   "cell_type": "code",
   "execution_count": null,
   "id": "f54ebfec",
   "metadata": {},
   "outputs": [],
   "source": [
    "plot(-sampler_stat.results.logvol, np.exp(sampler_stat.results.logl-sampler_stat.results.logl.max()))\n",
    "plot(-sampler_dyn.results.logvol, np.exp(sampler_dyn.results.logl-sampler_stat.results.logl.max()))\n"
   ]
  },
  {
   "cell_type": "code",
   "execution_count": null,
   "id": "e6a494af",
   "metadata": {},
   "outputs": [],
   "source": [
    "import scipy.special as ss\n",
    "ss.logsumexp(sampler_dyn.results.logl.max(), -sampler_stat.results.logl.max())"
   ]
  },
  {
   "cell_type": "code",
   "execution_count": null,
   "id": "77bc4d8e",
   "metadata": {},
   "outputs": [],
   "source": [
    "sampler_stat.results.logl.max()"
   ]
  },
  {
   "cell_type": "code",
   "execution_count": null,
   "id": "63b11e8d",
   "metadata": {},
   "outputs": [],
   "source": [
    "prior_samples = np.array([gfit.ptform(np.random.uniform(low=0, high=1, size=gfit.ndim)) for i in range(30)])\n",
    "figM, axM = subplots(figsize=(16,9))\n",
    "\n",
    "gfit.plotModel(figM, axM, prior_samples, outputDir=outputDir);\n"
   ]
  },
  {
   "cell_type": "code",
   "execution_count": null,
   "id": "c4862171",
   "metadata": {},
   "outputs": [],
   "source": [
    "\n",
    "\n",
    "fig, ax = subplots()\n",
    "ax.axhline(10**_numax)\n",
    "for k in range(0, 20, 4):\n",
    "    gfit = granulation_fit(ID, numax, download_dir, pcadim=3, weights=wfunc, weight_args={'n':k})\n",
    "\n",
    "    mu_pr = np.zeros(gfit.ndim) + 0.5\n",
    "\n",
    "    theta = gfit.ptform(mu_pr)\n",
    "\n",
    "    params = gfit.unpackParams(theta)\n",
    "\n",
    "    ax.plot(k, params[0], 'o')\n",
    "    ax.plot(k, 10**gfit.DR.mu[0], 'o', color='k')"
   ]
  },
  {
   "cell_type": "code",
   "execution_count": null,
   "id": "3161f536",
   "metadata": {},
   "outputs": [],
   "source": []
  },
  {
   "cell_type": "code",
   "execution_count": null,
   "id": "f8c54c4a",
   "metadata": {},
   "outputs": [],
   "source": [
    "def wfunc(self, n=1):\n",
    "     \n",
    "    ppf, pdf = self.getQuantileFuncs(self.data_F[:, :1])\n",
    "\n",
    "    w = 1/pdf[0](self.data_F[:, 0])**n\n",
    "       \n",
    "    return w\n",
    "\n",
    "from DR import PCA\n",
    "\n",
    "import utils\n",
    "\n",
    "_numax = prior_data.loc[13441, 'numax']\n",
    "\n",
    "numax = [10**_numax, 0.1*10**_numax]\n",
    "\n",
    "numax = utils.to_log10(*numax)          \n",
    "\n",
    "pcalabels = ['bkg_numax', 'bkg_envHeight', 'bkg_envWidth',\n",
    "             'H1_power', 'H1_nu', 'H1_exp',\n",
    "             'H2_power', 'H2_nu', 'H2_exp',] \n",
    "\n",
    "P_test = PCA(numax, pcalabels, weights=wfunc, weight_args={'n':2}, N=1000)\n",
    "\n",
    "# P_test.fit_weightedPCA(2)"
   ]
  },
  {
   "cell_type": "code",
   "execution_count": null,
   "id": "7ed089fb",
   "metadata": {},
   "outputs": [],
   "source": [
    "from dynesty import plotting as dyplot\n",
    "\n",
    "# Plot a summary of the run.\n",
    "rfig, raxes = dyplot.runplot(sampler.results)\n",
    "\n",
    "# Plot traces and 1-D marginalized posteriors.\n",
    "tfig, taxes = dyplot.traceplot(sampler.results)\n",
    "\n",
    "# Plot the 2-D marginalized posteriors.\n",
    "cfig, caxes = dyplot.cornerplot(sampler.results)\n",
    " "
   ]
  },
  {
   "cell_type": "code",
   "execution_count": null,
   "id": "4bf9b7e9",
   "metadata": {},
   "outputs": [],
   "source": [
    "gfit2 = granulation_fit(ID, numax, download_dir, pcadim=2, weights=wfunc, weight_args={'n':2}, N=200)\n",
    "gfit9 = granulation_fit(ID, numax, download_dir, pcadim=9, weights=wfunc, weight_args={'n':2}, N=200)\n"
   ]
  },
  {
   "cell_type": "code",
   "execution_count": null,
   "id": "2e0a50b5",
   "metadata": {},
   "outputs": [],
   "source": [
    "gfit2.DR.makeTrainingCorner()"
   ]
  },
  {
   "cell_type": "code",
   "execution_count": null,
   "id": "1d5fe820",
   "metadata": {},
   "outputs": [],
   "source": [
    "gfit9.DR.makeTrainingCorner()"
   ]
  },
  {
   "cell_type": "code",
   "execution_count": null,
   "id": "c12fcb14",
   "metadata": {},
   "outputs": [],
   "source": [
    "u = np.random.uniform(0, 1, len(gfit.priors)*2000).reshape((-1, len(gfit.priors)))\n",
    "\n",
    "theta = np.array([gfit.ptform(u[i, :]) for i in range(2000)])"
   ]
  },
  {
   "cell_type": "code",
   "execution_count": null,
   "id": "7dc057dd",
   "metadata": {},
   "outputs": [],
   "source": [
    "L = np.array([gfit.lnlike(theta[i, :]) for i in range(2000)])"
   ]
  },
  {
   "cell_type": "code",
   "execution_count": null,
   "id": "cad49943",
   "metadata": {},
   "outputs": [],
   "source": [
    "len(L[~np.isinf(L)])"
   ]
  },
  {
   "cell_type": "code",
   "execution_count": null,
   "id": "096468e4",
   "metadata": {},
   "outputs": [],
   "source": [
    "mod, _mod, _, extra = gfit.model(theta[0, :])"
   ]
  },
  {
   "cell_type": "code",
   "execution_count": null,
   "id": "d8e2a15e",
   "metadata": {},
   "outputs": [],
   "source": [
    "gfit._lnlike(mod)"
   ]
  },
  {
   "cell_type": "code",
   "execution_count": null,
   "id": "63ea1672",
   "metadata": {},
   "outputs": [],
   "source": [
    "loglog(mod)"
   ]
  },
  {
   "cell_type": "code",
   "execution_count": null,
   "id": "8645e35c",
   "metadata": {},
   "outputs": [],
   "source": [
    "theta_inv = np.array([gfit9.DR.inverse_transform(theta[i, :gfit9.DR.dims_R]) for i in range(2000)])"
   ]
  },
  {
   "cell_type": "code",
   "execution_count": null,
   "id": "ddc2bc6c",
   "metadata": {},
   "outputs": [],
   "source": [
    "scatter(theta_inv[:, 0], theta_inv[:, 4]-theta_inv[:, 0])"
   ]
  },
  {
   "cell_type": "code",
   "execution_count": null,
   "id": "ea78ac90",
   "metadata": {},
   "outputs": [],
   "source": [
    "hist(10**samples[:, 5])"
   ]
  },
  {
   "cell_type": "code",
   "execution_count": null,
   "id": "51eb36bd",
   "metadata": {},
   "outputs": [],
   "source": [
    "fig, ax = subplots(13,13, figsize=(25,25))\n",
    "\n",
    "gfit.makePriorCorner(fig)"
   ]
  },
  {
   "cell_type": "code",
   "execution_count": null,
   "metadata": {},
   "outputs": [],
   "source": []
  }
 ],
 "metadata": {
  "kernelspec": {
   "display_name": "Python 3",
   "language": "python",
   "name": "python3"
  },
  "language_info": {
   "codemirror_mode": {
    "name": "ipython",
    "version": 3
   },
   "file_extension": ".py",
   "mimetype": "text/x-python",
   "name": "python",
   "nbconvert_exporter": "python",
   "pygments_lexer": "ipython3",
   "version": "3.7.5"
  }
 },
 "nbformat": 4,
 "nbformat_minor": 5
}
