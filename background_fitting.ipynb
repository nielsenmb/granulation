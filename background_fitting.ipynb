{
 "cells": [
  {
   "cell_type": "code",
   "execution_count": null,
   "metadata": {},
   "outputs": [],
   "source": [
    "import os\n",
    "import lightkurve as lk\n",
    "import pandas as pd\n",
    "import numpy as np\n",
    "import dynesty\n",
    "from background_fit import granulation_fit \n",
    "from matplotlib.pyplot import *\n",
    "rcParams['font.size'] = 18"
   ]
  },
  {
   "cell_type": "code",
   "execution_count": null,
   "metadata": {},
   "outputs": [],
   "source": [
    "download_dir = '/home/nielsemb/work/mounts/Bluebear_data/data'\n",
    "\n",
    "workDir = '/home/nielsemb/work/repos/bfp9001'\n",
    "\n",
    "prior_data = pd.read_csv(os.path.join(*[workDir, 'files', 'prior_data.csv']))"
   ]
  },
  {
   "cell_type": "code",
   "execution_count": null,
   "metadata": {},
   "outputs": [],
   "source": [
    "updated_data = prior_data.copy()\n",
    "\n",
    "new_keys = ['H1_power', 'H1_nu', 'H1_exp',\n",
    "            'H2_power', 'H2_nu', 'H2_exp',\n",
    "            'H3_power', 'H3_nu', 'H3_exp',\n",
    "            'bkg_numax', 'bkg_envWidth', 'bkg_envHeight',\n",
    "            'shot']\n",
    "\n",
    "for key in new_keys:\n",
    "    updated_data[key] = np.nan\n",
    "    updated_data[key+'_err'] = np.nan"
   ]
  },
  {
   "cell_type": "code",
   "execution_count": null,
   "metadata": {},
   "outputs": [],
   "source": [
    "idx = prior_data['ID'] == 'KIC6144777'"
   ]
  },
  {
   "cell_type": "code",
   "execution_count": null,
   "metadata": {},
   "outputs": [],
   "source": [
    "prior_data[idx]"
   ]
  },
  {
   "cell_type": "code",
   "execution_count": null,
   "metadata": {},
   "outputs": [],
   "source": [
    "figM, axM = subplots(figsize=(16,9))\n",
    "fig3, ax3 = subplots(3,3, figsize=(9,9))\n",
    "fig4, ax4 = subplots(4,4, figsize=(12,12))\n",
    "figA, axA = subplots(13,13, figsize=(32,32))\n",
    "\n",
    "cornerN = 5000\n",
    "\n",
    "for i in prior_data.index[7655:7656]:\n",
    "\n",
    "    ID = prior_data.loc[i, 'ID']\n",
    "    print(ID)\n",
    "    outputDir = os.path.join(*[workDir, 'results', ID])\n",
    "\n",
    "    if not os.path.exists(outputDir):\n",
    "        os.makedirs(outputDir)\n",
    "        \n",
    "    _numax = prior_data.loc[i, 'numax']\n",
    "    numax = (10**_numax, 0.2*10**_numax)\n",
    " \n",
    "    \n",
    "    gfit = granulation_fit(ID, numax, download_dir)\n",
    "    \n",
    "    gfit.plotModel(figM, axM, outputDir=outputDir);\n",
    "    axM.clear()\n",
    "    \n",
    "    sampler, samples = gfit.runDynesty()\n",
    " \n",
    "    gfit.storeResults(i, updated_data, new_keys, samples, outputDir)\n",
    "    \n",
    "    gfit.plotModel(figM, axM, samples, outputDir=outputDir)\n",
    "    axM.clear()\n",
    " \n",
    "    fig, ax = gfit.makeCorner(fig3, samples, cornerN, labels=['hsig1', 'dhnu1', 'hexp1'], outputDir=outputDir);\n",
    "    for ax in ax3.flatten():\n",
    "        ax.clear()\n",
    " \n",
    "    fig, ax = gfit.makeCorner(fig3, samples, cornerN, labels=['hsig2', 'dhnu2', 'hexp2'], outputDir=outputDir);\n",
    "    for ax in ax3.flatten():\n",
    "        ax.clear()\n",
    " \n",
    "    fig, ax = gfit.makeCorner(fig3, samples, cornerN, labels=['hsig3', 'hnu3', 'hexp3'], outputDir=outputDir);\n",
    "    for ax in ax3.flatten():\n",
    "        ax.clear()\n",
    " \n",
    "    fig, ax = gfit.makeCorner(fig4, samples, cornerN, labels=['numax', 'dwidth', 'height', 'white'], outputDir=outputDir);\n",
    "    for ax in ax4.flatten():\n",
    "        ax.clear()\n",
    " \n",
    "    fig, ax = gfit.makeCorner(figA, samples, cornerN, labels=gfit.labels, outputDir=outputDir);\n",
    "    for ax in axA.flatten():\n",
    "        ax.clear()\n",
    "        \n",
    "updated_data.to_csv('prior_data_updated.csv', index=False)"
   ]
  },
  {
   "cell_type": "code",
   "execution_count": null,
   "metadata": {},
   "outputs": [],
   "source": [
    "fileLoad = np.load('/home/nielsemb/work/repos/bfp9001/results/KIC4448777/KIC4448777_samples.npz')\n",
    "samples = fileLoad['samples']"
   ]
  },
  {
   "cell_type": "code",
   "execution_count": null,
   "metadata": {},
   "outputs": [],
   "source": []
  },
  {
   "cell_type": "code",
   "execution_count": null,
   "metadata": {},
   "outputs": [],
   "source": [
    "samples.shape"
   ]
  },
  {
   "cell_type": "code",
   "execution_count": null,
   "metadata": {},
   "outputs": [],
   "source": []
  },
  {
   "cell_type": "code",
   "execution_count": null,
   "metadata": {},
   "outputs": [],
   "source": [
    "figM, axM = subplots(figsize=(16,9))\n",
    "fig3, ax3 = subplots(3,3, figsize=(9,9))\n",
    "fig4, ax4 = subplots(4,4, figsize=(12,12))\n",
    "figA, axA = subplots(13,13, figsize=(32,32))\n",
    "\n",
    "cornerN = 5000\n",
    "\n",
    "ID = 'KIC8524425' #prior_data.loc[i, 'ID']\n",
    "\n",
    "outputDir = os.path.join(*[workDir, 'results', ID])\n",
    "\n",
    "if not os.path.exists(outputDir):\n",
    "    os.makedirs(outputDir)\n",
    "\n",
    "numax = (1100, 50)\n",
    "\n",
    "gfit = granulation_fit(ID, numax, download_dir)\n",
    "\n",
    "gfit.plotModel(figM, axM, outputDir=outputDir);\n",
    "axM.clear()\n",
    "\n",
    "\n",
    "sampler, samples = gfit.runDynesty()\n",
    "\n",
    "gfit.storeResults(0, updated_data, new_keys, samples, outputDir)\n",
    "\n",
    "gfit.plotModel(figM, axM, samples, outputDir=outputDir)\n",
    "# axM.clear()\n",
    "\n",
    "# fig, ax = gfit.makeCorner(fig3, samples, cornerN, labels=['hsig1', 'dhnu1', 'hexp1'], outputDir=outputDir);\n",
    "# for ax in ax3.flatten():\n",
    "#     ax.clear()\n",
    "\n",
    "# fig, ax = gfit.makeCorner(fig3, samples, cornerN, labels=['hsig2', 'dhnu2', 'hexp2'], outputDir=outputDir);\n",
    "# for ax in ax3.flatten():\n",
    "#     ax.clear()\n",
    "\n",
    "# fig, ax = gfit.makeCorner(fig3, samples, cornerN, labels=['hsig3', 'hnu3', 'hexp3'], outputDir=outputDir);\n",
    "# for ax in ax3.flatten():\n",
    "#     ax.clear()\n",
    "\n",
    "# fig, ax = gfit.makeCorner(fig4, samples, cornerN, labels=['numax', 'dwidth', 'height', 'white'], outputDir=outputDir);\n",
    "# for ax in ax4.flatten():\n",
    "#     ax.clear()\n",
    "\n",
    "# fig, ax = gfit.makeCorner(figA, samples, cornerN, labels=gfit.labels, outputDir=outputDir);\n",
    "# for ax in axA.flatten():\n",
    "#     ax.clear()\n",
    "        \n",
    "# updated_data.to_csv('prior_data_updated.csv', index=False)"
   ]
  },
  {
   "cell_type": "code",
   "execution_count": null,
   "metadata": {},
   "outputs": [],
   "source": [
    "gfit.storeResults(0, updated_data, new_keys, samples, outputDir)"
   ]
  },
  {
   "cell_type": "code",
   "execution_count": null,
   "metadata": {},
   "outputs": [],
   "source": [
    "figM, axM = subplots(figsize=(16,9))\n",
    "fig3, ax3 = subplots(3,3, figsize=(9,9))\n",
    "fig4, ax4 = subplots(4,4, figsize=(12,12))\n",
    "figA, axA = subplots(13,13, figsize=(32,32))\n",
    "\n",
    "gfit.storeResults(0, updated_data, new_keys, samples, outputDir)\n",
    "\n",
    "gfit.plotModel(figM, axM, samples, outputDir=outputDir)\n"
   ]
  },
  {
   "cell_type": "code",
   "execution_count": null,
   "metadata": {},
   "outputs": [],
   "source": [
    "y = -np.log(np.ones(len(gfit.f))) - np.log(np.random.uniform(size=len(gfit.f)))"
   ]
  },
  {
   "cell_type": "code",
   "execution_count": null,
   "metadata": {},
   "outputs": [],
   "source": [
    "sum(y)"
   ]
  },
  {
   "cell_type": "code",
   "execution_count": null,
   "metadata": {},
   "outputs": [],
   "source": [
    "figM, axM = subplots(figsize=(16,9))\n",
    "axM.loglog(f[::10],p[::10], color = 'C5')\n",
    "gfit.plotModel(figM, axM, samples, outputDir=outputDir)"
   ]
  },
  {
   "cell_type": "code",
   "execution_count": null,
   "metadata": {},
   "outputs": [],
   "source": [
    "LCcol = lk.search_lightcurve(gfit.ID, author='Kepler', mission='Kepler', exptime=60).download_all(download_dir=gfit.download_dir)\n",
    "\n",
    "wlen = int(1.5e6/60)-1\n",
    "if wlen % 2 == 0:\n",
    "    wlen += 1\n",
    "lc = LCcol.stitch().normalize().remove_nans().remove_outliers().flatten(window_length=wlen)*1e6\n",
    "\n",
    "t, d = lc.time.value, lc.flux.value\n",
    "\n",
    "pg = lc.to_periodogram(normalization='psd', minimum_frequency=1.0)\n",
    "\n",
    "f, p = pg.frequency.value, pg.power.value\n",
    "\n",
    "tot_MS = np.nansum((d - np.nanmean(d))**2)/len(t)\n",
    "\n",
    "normfactor = tot_MS/np.sum(p)\n",
    "\n",
    "p *= normfactor"
   ]
  },
  {
   "cell_type": "code",
   "execution_count": null,
   "metadata": {},
   "outputs": [],
   "source": []
  },
  {
   "cell_type": "code",
   "execution_count": null,
   "metadata": {},
   "outputs": [],
   "source": [
    "from dataclasses import dataclass, astuple\n",
    "\n",
    "@dataclass\n",
    "class ThetaReg:\n",
    "    '''\n",
    "    Parameters for Reggae (asymptotic description of l = 1 modes)\n",
    "\n",
    "    If θ is a numpy array, generate an instance as\n",
    "    theta = ThetaReg(*θ)\n",
    "    '''\n",
    "\n",
    "    dPi0: float\n",
    "    p_L: float\n",
    "    p_D: float\n",
    "    epsilon_g: float\n",
    "    log_omega_rot: float\n",
    "    d01: float\n",
    "    alpha_g: float\n",
    "    inclination: float\n",
    "\n",
    "    "
   ]
  },
  {
   "cell_type": "code",
   "execution_count": null,
   "metadata": {},
   "outputs": [],
   "source": [
    "ThetaReg.dims"
   ]
  },
  {
   "cell_type": "code",
   "execution_count": null,
   "metadata": {},
   "outputs": [],
   "source": []
  },
  {
   "cell_type": "code",
   "execution_count": 1,
   "metadata": {},
   "outputs": [
    {
     "ename": "ModuleNotFoundError",
     "evalue": "No module named 'LightkurveCacheAccess'",
     "output_type": "error",
     "traceback": [
      "\u001b[0;31m---------------------------------------------------------------------------\u001b[0m",
      "\u001b[0;31mModuleNotFoundError\u001b[0m                       Traceback (most recent call last)",
      "\u001b[0;32m<ipython-input-1-853791b9a111>\u001b[0m in \u001b[0;36m<module>\u001b[0;34m\u001b[0m\n\u001b[0;32m----> 1\u001b[0;31m \u001b[0;32mimport\u001b[0m \u001b[0mLightkurveCacheAccess\u001b[0m \u001b[0;32mas\u001b[0m \u001b[0mlkAcc\u001b[0m\u001b[0;34m\u001b[0m\u001b[0;34m\u001b[0m\u001b[0m\n\u001b[0m\u001b[1;32m      2\u001b[0m \u001b[0;34m\u001b[0m\u001b[0m\n\u001b[1;32m      3\u001b[0m \u001b[0mmycache\u001b[0m \u001b[0;34m=\u001b[0m \u001b[0;34m'/home/nielsemb/.lightkurve-cache'\u001b[0m\u001b[0;34m\u001b[0m\u001b[0;34m\u001b[0m\u001b[0m\n\u001b[1;32m      4\u001b[0m \u001b[0;34m\u001b[0m\u001b[0m\n\u001b[1;32m      5\u001b[0m \u001b[0muse_cached\u001b[0m \u001b[0;34m=\u001b[0m \u001b[0;32mTrue\u001b[0m\u001b[0;34m\u001b[0m\u001b[0;34m\u001b[0m\u001b[0m\n",
      "\u001b[0;31mModuleNotFoundError\u001b[0m: No module named 'LightkurveCacheAccess'"
     ]
    }
   ],
   "source": []
  },
  {
   "cell_type": "code",
   "execution_count": null,
   "metadata": {},
   "outputs": [],
   "source": []
  }
 ],
 "metadata": {
  "kernelspec": {
   "display_name": "Python 3",
   "language": "python",
   "name": "python3"
  },
  "language_info": {
   "codemirror_mode": {
    "name": "ipython",
    "version": 3
   },
   "file_extension": ".py",
   "mimetype": "text/x-python",
   "name": "python",
   "nbconvert_exporter": "python",
   "pygments_lexer": "ipython3",
   "version": "3.7.5"
  }
 },
 "nbformat": 4,
 "nbformat_minor": 5
}
