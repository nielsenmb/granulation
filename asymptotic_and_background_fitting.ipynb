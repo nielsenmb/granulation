{
 "cells": [
  {
   "cell_type": "markdown",
   "metadata": {},
   "source": [
    "# Notebook for fitting the background and asymptotic relation with pca"
   ]
  },
  {
   "cell_type": "code",
   "execution_count": null,
   "metadata": {},
   "outputs": [],
   "source": [
    "#%load_ext autoreload\n",
    "#%autoreload 2\n",
    "import os\n",
    "import pandas as pd\n",
    "import numpy as np\n",
    "from asy_bkg_fitting import spectrum_fit \n",
    "from matplotlib.pyplot import *\n",
    "rcParams['font.size'] = 18"
   ]
  },
  {
   "cell_type": "code",
   "execution_count": null,
   "metadata": {},
   "outputs": [],
   "source": [
    "download_dir = '/home/nielsemb/work/mounts/Bluebear_data/data'\n",
    "\n",
    "workDir = '/home/nielsemb/work/repos/granulation'\n",
    "\n",
    "prior_data_fname = os.path.join(*[workDir, 'bkgfit_output_nopca.csv']) \n",
    "prior_data = pd.read_csv(prior_data_fname)"
   ]
  },
  {
   "cell_type": "code",
   "execution_count": null,
   "metadata": {},
   "outputs": [],
   "source": [
    "i = 3 \n",
    "\n",
    "ID = prior_data.loc[i, 'ID']\n",
    "print(ID)\n",
    "\n",
    "outputDir = os.path.join(*[workDir, 'results', ID])\n",
    "\n",
    "if not os.path.exists(outputDir):\n",
    "    os.makedirs(outputDir)\n",
    "\n",
    "_numax = prior_data.loc[i, 'numax'] # tgt numax\n",
    "_teff = prior_data.loc[i, 'teff'] # tgt numax\n",
    "_bp_rp = prior_data.loc[i, 'bp_rp'] # tgt numax\n",
    " \n",
    "obs = {'numax': [10**_numax, 0.01*10**_numax], \n",
    "       'teff': [10**_teff, 100],\n",
    "       'bp_rp': [_bp_rp, 0.1]} \n",
    "\n",
    "sfit = spectrum_fit(ID, obs, download_dir, pcadim=6, N=200, fname=prior_data_fname)\n",
    "\n",
    "dynSampler, dynSamples = sfit.runDynesty(progress=True)\n",
    "\n",
    "figM, axM = subplots(figsize=(16,9))\n",
    "sfit.plotModel(figM, axM, dynSamples, outputDir=outputDir); # Plot model based on posterior samples\n",
    "axM.set_yscale('linear')\n",
    "axM.set_xscale('linear')\n",
    "\n",
    "#sfit.storeResults(outputDir)"
   ]
  },
  {
   "cell_type": "code",
   "execution_count": null,
   "metadata": {},
   "outputs": [],
   "source": [
    "outputDir"
   ]
  },
  {
   "cell_type": "code",
   "execution_count": null,
   "metadata": {},
   "outputs": [],
   "source": [
    "import dill\n",
    "ext = f'pca{sfit.DR.dims_R}'\n",
    "gfitpath = os.path.join(*[outputDir, os.path.basename(outputDir) + f'_{ext}.gfit'])\n",
    "gfitpath\n",
    "\n",
    "with open(gfitpath, 'wb') as outfile:\n",
    "    dill.dump(sfit, outfile)"
   ]
  },
  {
   "cell_type": "code",
   "execution_count": null,
   "metadata": {},
   "outputs": [],
   "source": []
  },
  {
   "cell_type": "code",
   "execution_count": null,
   "metadata": {},
   "outputs": [],
   "source": [
    "sfit.DR.erank"
   ]
  },
  {
   "cell_type": "code",
   "execution_count": null,
   "metadata": {},
   "outputs": [],
   "source": [
    "figP, axP = subplots(figsize=(16,9))\n",
    "sfit.plotModel(figP, axP, outputDir=outputDir); # Plot model from median of the prior\n",
    "axP.set_yscale('log')\n",
    "axP.set_xscale('log')\n",
    "#axP.set_xlim(300, 575)\n",
    "\n",
    "nu0s = sfit._asymptotic_relation(10**sfit.DR.data_F[0, 7], \n",
    "                                 10**sfit.DR.data_F[0, 0], \n",
    "                                 sfit.DR.data_F[0, 6], \n",
    "                                 10**sfit.DR.data_F[0, 2])\n",
    "for nu in nu0s:\n",
    "    axP.axvline(nu)"
   ]
  },
  {
   "cell_type": "code",
   "execution_count": null,
   "metadata": {},
   "outputs": [],
   "source": [
    "\n",
    "#sfit.storeResults(outputDir) # Store the results"
   ]
  },
  {
   "cell_type": "code",
   "execution_count": null,
   "metadata": {},
   "outputs": [],
   "source": [
    "\n",
    "#axM.set_xlim(50, 150)"
   ]
  },
  {
   "cell_type": "code",
   "execution_count": null,
   "metadata": {},
   "outputs": [],
   "source": [
    "# Pick some targets from various parts of the numax range.\n",
    "test_numaxs = np.linspace(min(prior_data['numax']), max(prior_data['numax']), 4)\n",
    "idxs = np.array([np.argmin(abs(prior_data['numax'].values - nu)) for nu in test_numaxs])\n",
    "idxs"
   ]
  },
  {
   "cell_type": "code",
   "execution_count": null,
   "metadata": {},
   "outputs": [],
   "source": [
    "import utils\n",
    "figM, axM = subplots(figsize=(16,9))\n",
    "plotModel(sfit, figM, axM, dynSamples); # Plot model based on posterior samples\n",
    "axM.set_yscale('linear')\n",
    "axM.set_xscale('linear')\n",
    "axM.set_xlim(25, 75)"
   ]
  },
  {
   "cell_type": "code",
   "execution_count": null,
   "metadata": {},
   "outputs": [],
   "source": [
    "N = 1\n",
    "prior_samples = sfit.ptform(np.zeros(sfit.ndim) + 0.5)\n",
    "\n",
    "theta_asy, theta_bkg, theta_extra = sfit.unpackParams(prior_samples)"
   ]
  },
  {
   "cell_type": "code",
   "execution_count": null,
   "metadata": {},
   "outputs": [],
   "source": [
    "# Pick some targets from various parts of the numax range.\n",
    "test_numaxs = np.linspace(min(prior_data['numax']), max(prior_data['numax']), 10)\n",
    "idxs = np.array([np.argmin(abs(prior_data['numax'].values - nu)) for nu in test_numaxs])\n",
    "\n",
    "# Optional weighting function to plug in, use weights_args dict to set parameters\n",
    "def wfunc(self, n=1):\n",
    "     \n",
    "    ppf, pdf = self.getQuantileFuncs(self.data_F[:, :1])\n",
    "\n",
    "    w = 1/pdf[0](self.data_F[:, 0])**n\n",
    "       \n",
    "    return w"
   ]
  },
  {
   "cell_type": "code",
   "execution_count": null,
   "metadata": {},
   "outputs": [],
   "source": [
    "for i in [8615,  8568, 13325,  6323]:\n",
    "\n",
    "    ID = prior_data.loc[i, 'ID']\n",
    "    print(ID)\n",
    "\n",
    "    outputDir = os.path.join(*[workDir, 'results', ID])\n",
    "\n",
    "    if not os.path.exists(outputDir):\n",
    "        os.makedirs(outputDir)\n",
    "\n",
    "    _numax = prior_data.loc[i, 'numax'] # tgt numax\n",
    "    _teff = prior_data.loc[i, 'teff'] # tgt numax\n",
    "    _bp_rp = prior_data.loc[i, 'bp_rp'] # tgt numax\n",
    "\n",
    "    obs = {'numax': [10**_numax, 0.01*10**_numax], \n",
    "           'teff': [10**_teff, 100],\n",
    "           'bp_rp': [_bp_rp, 0.1]} \n",
    "\n",
    "    for j, ndim in enumerate([2, 4, 8, 16]):\n",
    "\n",
    "        sfit = spectrum_fit(ID, obs, download_dir, pcadim=ndim, N=200, fname=prior_data_fname)\n",
    "\n",
    "        dynSampler, dynSamples = sfit.runDynesty(progress=True)\n",
    "\n",
    "        sfit.storeResults(outputDir)"
   ]
  },
  {
   "cell_type": "code",
   "execution_count": null,
   "metadata": {},
   "outputs": [],
   "source": [
    "from scipy.stats import ks_2samp as ks"
   ]
  },
  {
   "cell_type": "code",
   "execution_count": null,
   "metadata": {},
   "outputs": [],
   "source": [
    "ks(hist0[0], hist1[0])"
   ]
  },
  {
   "cell_type": "code",
   "execution_count": null,
   "metadata": {},
   "outputs": [],
   "source": [
    "10**1.46508561520692\n"
   ]
  },
  {
   "cell_type": "code",
   "execution_count": null,
   "metadata": {},
   "outputs": [],
   "source": []
  }
 ],
 "metadata": {
  "kernelspec": {
   "display_name": "Python 3",
   "language": "python",
   "name": "python3"
  },
  "language_info": {
   "codemirror_mode": {
    "name": "ipython",
    "version": 3
   },
   "file_extension": ".py",
   "mimetype": "text/x-python",
   "name": "python",
   "nbconvert_exporter": "python",
   "pygments_lexer": "ipython3",
   "version": "3.7.5"
  }
 },
 "nbformat": 4,
 "nbformat_minor": 5
}
